{
 "cells": [
  {
   "cell_type": "code",
   "execution_count": 112,
   "metadata": {},
   "outputs": [],
   "source": [
    "import numpy\n",
    "import pandas\n",
    "from pandas import concat\n",
    "\n",
    "#Import sampling helper\n",
    "from sklearn.model_selection import train_test_split\n",
    "#Import preprocessing modules\n",
    "from sklearn import preprocessing\n",
    "from sklearn.preprocessing import LabelEncoder\n",
    "from sklearn.preprocessing import Binarizer\n",
    "#Import random forest model\n",
    "from sklearn.ensemble import RandomForestRegressor\n",
    "#Import logist regression model\n",
    "from sklearn.linear_model import LogisticRegression\n",
    "#Import Linear regression model\n",
    "from sklearn.linear_model import LinearRegression\n",
    "\n",
    "#Import cross-validation pipelinePython\n",
    "from sklearn.pipeline import make_pipeline\n",
    "from sklearn.model_selection import GridSearchCV\n",
    "\n",
    "#Import evaluation metricsPython\n",
    "from sklearn.metrics import mean_squared_error, r2_score\n",
    "\n",
    "#Import module for saving scikit-learn modelsPython\n",
    "import joblib\n",
    "\n",
    "import matplotlib.pyplot as plt\n",
    "import seaborn as sns\n",
    "from sklearn import metrics"
   ]
  },
  {
   "cell_type": "code",
   "execution_count": 27,
   "metadata": {},
   "outputs": [],
   "source": [
    "ABInbevQuandl = pandas.read_csv('https://www.quandl.com/api/v3/datasets/EURONEXT/ABI.csv?api_key=_czXMKeX32eTXGttzD8H',\n",
    "                                parse_dates=[0],\n",
    "                                index_col=[0])"
   ]
  },
  {
   "cell_type": "code",
   "execution_count": 69,
   "metadata": {},
   "outputs": [],
   "source": [
    "ABInbevQuandl.sort_index(inplace=True)\n",
    "#feature 1 : High(j+1) < Low(j+2)\n",
    "ABInbevQuandl['Feature1'] = (ABInbevQuandl['Low'].shift(-2) - ABInbevQuandl['High'].shift(-1))/ABInbevQuandl['High'].shift(-1)\n",
    "#feature 2 : High(j+1) < Low(j+3)\n",
    "ABInbevQuandl['Feature2'] = (ABInbevQuandl['Low'].shift(-3) - ABInbevQuandl['High'].shift(-1))/ABInbevQuandl['High'].shift(-1) \n",
    "#feature 3 : High(j+1) < Low(j+4)\n",
    "ABInbevQuandl['Feature3'] = (ABInbevQuandl['Low'].shift(-4) - ABInbevQuandl['High'].shift(-1))/ABInbevQuandl['High'].shift(-1) \n",
    "#feature 4 : High(j+1) < Low(j+5)\n",
    "ABInbevQuandl['Feature4'] = (ABInbevQuandl['Low'].shift(-5) - ABInbevQuandl['High'].shift(-1))/ABInbevQuandl['High'].shift(-1) \n",
    "ABInbevQuandl.dropna(inplace=True)\n"
   ]
  },
  {
   "cell_type": "code",
   "execution_count": 31,
   "metadata": {},
   "outputs": [],
   "source": [
    "#take only Date, High and Low\n",
    "ABReg = ABInbevQuandl[['High','Low']]\n",
    "ABReg.reset_index(inplace=True)\n",
    "\n",
    "#Regression calculation\n",
    "RegResult = pandas.DataFrame(columns=['Date','nbdays','score','coef_high','coef_low'])\n",
    "X = numpy.array(ABReg.index).reshape(-1,1)\n",
    "y = numpy.array(ABReg[['High','Low']])\n",
    "index=0 \n",
    "\n",
    "#taking all combination of subset from -> to\n",
    "#actually we don't take subset of 1 and 2 days \n",
    "#because there is no point to calculate regression with less than 3 points\n",
    "for i in range(ABReg.index.size-2):\n",
    "    for j in range(i+3,max(i+350,ABReg.index.size)):        \n",
    "        temp = LinearRegression().fit(X[i:j],y[i:j])\n",
    "        y_reg = temp.predict(X[i:j])\n",
    "        score=r2_score(y[i:j],y_reg)\n",
    "        if (score >= 0.9):\n",
    "            RegResult.loc[index] = \\\n",
    "                [ABReg.loc[j-1,'Date'],\\\n",
    "                 j-i,\\\n",
    "                 score,\\\n",
    "                 temp.coef_[0].item(),\\\n",
    "                 temp.coef_[1].item()]\n",
    "            index += 1\n",
    "    \n",
    "\n"
   ]
  },
  {
   "cell_type": "code",
   "execution_count": 95,
   "metadata": {},
   "outputs": [],
   "source": [
    "AggResult = RegResult.groupby(by='Date').agg({'nbdays': ['min','max','count'],\\\n",
    "                              'coef_high': ['min','max','mean'],\\\n",
    "                              'coef_low': ['min','max','mean']})\n",
    "AggResult.columns = AggResult.columns.map(lambda x: '_'.join([str(i) for i in x]))\n",
    "\n",
    "ABInbevToAnalyse = ABInbevQuandl.join(AggResult)"
   ]
  },
  {
   "cell_type": "code",
   "execution_count": 136,
   "metadata": {},
   "outputs": [],
   "source": [
    "#define the target rate\n",
    "y = pandas.DataFrame(Binarizer(0).fit_transform(ABInberToAnalyse[['Feature2']]))\n",
    "X = ABInberToAnalyse.drop(['Feature1','Feature2','Feature3','Feature4'], axis=1).fillna(0)\n",
    "\n"
   ]
  },
  {
   "cell_type": "code",
   "execution_count": 137,
   "metadata": {},
   "outputs": [
    {
     "name": "stderr",
     "output_type": "stream",
     "text": [
      "C:\\Users\\pierr\\Anaconda3\\lib\\site-packages\\sklearn\\linear_model\\logistic.py:432: FutureWarning: Default solver will be changed to 'lbfgs' in 0.22. Specify a solver to silence this warning.\n",
      "  FutureWarning)\n",
      "C:\\Users\\pierr\\Anaconda3\\lib\\site-packages\\sklearn\\utils\\validation.py:724: DataConversionWarning: A column-vector y was passed when a 1d array was expected. Please change the shape of y to (n_samples, ), for example using ravel().\n",
      "  y = column_or_1d(y, warn=True)\n"
     ]
    }
   ],
   "source": [
    "#Split data into train and test setsPython\n",
    "X_train, X_test, y_train, y_test = train_test_split(X, y, \n",
    "                                                    test_size=0.8, \n",
    "                                                    random_state=123, \n",
    "                                                    stratify=y)\n",
    "\n",
    "logisticRegr = LogisticRegression()\n",
    "\n",
    "logisticRegr.fit(X_train, y_train)\n",
    "\n",
    "predictions = logisticRegr.predict(X_test)\n",
    "\n",
    "score = logisticRegr.score(X_test, y_test)\n",
    "\n",
    "cm = metrics.confusion_matrix(y_test, predictions)\n"
   ]
  },
  {
   "cell_type": "code",
   "execution_count": 138,
   "metadata": {},
   "outputs": [
    {
     "data": {
      "image/png": "[encoded data removed]",
      "text/plain": [
       "<Figure size 648x648 with 2 Axes>"
      ]
     },
     "metadata": {
      "needs_background": "light"
     },
     "output_type": "display_data"
    }
   ],
   "source": [
    "    \n",
    "plt.figure(figsize=(9,9))\n",
    "sns.heatmap(cm, annot=True, fmt=\".3f\", linewidths=.5, square = True, cmap = 'Blues_r');\n",
    "plt.ylabel('Actual label');\n",
    "plt.xlabel('Predicted label');\n",
    "all_sample_title = 'Accuracy Score: {0}'.format(score)\n",
    "plt.title(all_sample_title, size = 15);\n"
   ]
  }
 ],
 "metadata": {
  "celltoolbar": "Aucun(e)",
  "kernelspec": {
   "display_name": "Python 3",
   "language": "python",
   "name": "python3"
  },
  "language_info": {
   "codemirror_mode": {
    "name": "ipython",
    "version": 3
   },
   "file_extension": ".py",
   "mimetype": "text/x-python",
   "name": "python",
   "nbconvert_exporter": "python",
   "pygments_lexer": "ipython3",
   "version": "3.7.3"
  }
 },
 "nbformat": 4,
 "nbformat_minor": 2
}
