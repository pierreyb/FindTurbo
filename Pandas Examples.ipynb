{
 "cells": [
  {
   "cell_type": "code",
   "execution_count": 1,
   "metadata": {},
   "outputs": [],
   "source": [
    "import numpy\n",
    "import pandas"
   ]
  },
  {
   "cell_type": "code",
   "execution_count": 2,
   "metadata": {},
   "outputs": [],
   "source": [
    "#read_csv to retrive data in a dataframe\n",
    "ABInbevQuandl = pandas.read_csv('https://www.quandl.com/api/v3/datasets/EURONEXT/ABI.csv?api_key=_czXMKeX32eTXGttzD8H',\n",
    "                                parse_dates=[0],\n",
    "                                index_col=[0])"
   ]
  },
  {
   "cell_type": "code",
   "execution_count": 6,
   "metadata": {},
   "outputs": [
    {
     "data": {
      "text/plain": [
       "Open        float64\n",
       "High        float64\n",
       "Low         float64\n",
       "Last        float64\n",
       "Volume      float64\n",
       "Turnover    float64\n",
       "dtype: object"
      ]
     },
     "execution_count": 6,
     "metadata": {},
     "output_type": "execute_result"
    }
   ],
   "source": [
    "#dtypes type of the columns\n",
    "ABInbevQuandl.dtypes\n"
   ]
  },
  {
   "cell_type": "code",
   "execution_count": 7,
   "metadata": {},
   "outputs": [
    {
     "data": {
      "text/plain": [
       "Index(['Open', 'High', 'Low', 'Last', 'Volume', 'Turnover'], dtype='object')"
      ]
     },
     "execution_count": 7,
     "metadata": {},
     "output_type": "execute_result"
    }
   ],
   "source": [
    "ABInbevQuandl.columns"
   ]
  },
  {
   "cell_type": "code",
   "execution_count": 3,
   "metadata": {},
   "outputs": [
    {
     "data": {
      "text/plain": [
       "(1462, 6)"
      ]
     },
     "execution_count": 3,
     "metadata": {},
     "output_type": "execute_result"
    }
   ],
   "source": [
    "#Shape - size of the dataframe\n",
    "ABInbevQuandl.shape\n"
   ]
  },
  {
   "cell_type": "code",
   "execution_count": 4,
   "metadata": {},
   "outputs": [
    {
     "data": {
      "text/html": [
       "<div>\n",
       "<style scoped>\n",
       "    .dataframe tbody tr th:only-of-type {\n",
       "        vertical-align: middle;\n",
       "    }\n",
       "\n",
       "    .dataframe tbody tr th {\n",
       "        vertical-align: top;\n",
       "    }\n",
       "\n",
       "    .dataframe thead th {\n",
       "        text-align: right;\n",
       "    }\n",
       "</style>\n",
       "<table border=\"1\" class=\"dataframe\">\n",
       "  <thead>\n",
       "    <tr style=\"text-align: right;\">\n",
       "      <th></th>\n",
       "      <th>Open</th>\n",
       "      <th>High</th>\n",
       "      <th>Low</th>\n",
       "      <th>Last</th>\n",
       "      <th>Volume</th>\n",
       "      <th>Turnover</th>\n",
       "    </tr>\n",
       "    <tr>\n",
       "      <th>Date</th>\n",
       "      <th></th>\n",
       "      <th></th>\n",
       "      <th></th>\n",
       "      <th></th>\n",
       "      <th></th>\n",
       "      <th></th>\n",
       "    </tr>\n",
       "  </thead>\n",
       "  <tbody>\n",
       "    <tr>\n",
       "      <th>2019-01-31</th>\n",
       "      <td>65.85</td>\n",
       "      <td>66.61</td>\n",
       "      <td>65.40</td>\n",
       "      <td>66.61</td>\n",
       "      <td>2400725.0</td>\n",
       "      <td>1.590281e+08</td>\n",
       "    </tr>\n",
       "    <tr>\n",
       "      <th>2019-01-30</th>\n",
       "      <td>64.63</td>\n",
       "      <td>65.41</td>\n",
       "      <td>64.17</td>\n",
       "      <td>65.19</td>\n",
       "      <td>1429280.0</td>\n",
       "      <td>9.293148e+07</td>\n",
       "    </tr>\n",
       "    <tr>\n",
       "      <th>2019-01-29</th>\n",
       "      <td>64.15</td>\n",
       "      <td>64.83</td>\n",
       "      <td>63.76</td>\n",
       "      <td>64.57</td>\n",
       "      <td>1277844.0</td>\n",
       "      <td>8.242696e+07</td>\n",
       "    </tr>\n",
       "    <tr>\n",
       "      <th>2019-01-28</th>\n",
       "      <td>65.50</td>\n",
       "      <td>65.64</td>\n",
       "      <td>63.76</td>\n",
       "      <td>64.00</td>\n",
       "      <td>2164979.0</td>\n",
       "      <td>1.391650e+08</td>\n",
       "    </tr>\n",
       "    <tr>\n",
       "      <th>2019-01-25</th>\n",
       "      <td>65.99</td>\n",
       "      <td>66.26</td>\n",
       "      <td>65.26</td>\n",
       "      <td>65.54</td>\n",
       "      <td>1541189.0</td>\n",
       "      <td>1.011307e+08</td>\n",
       "    </tr>\n",
       "    <tr>\n",
       "      <th>2019-01-24</th>\n",
       "      <td>65.65</td>\n",
       "      <td>65.80</td>\n",
       "      <td>64.64</td>\n",
       "      <td>65.70</td>\n",
       "      <td>2061520.0</td>\n",
       "      <td>1.347041e+08</td>\n",
       "    </tr>\n",
       "    <tr>\n",
       "      <th>2019-01-23</th>\n",
       "      <td>64.70</td>\n",
       "      <td>64.93</td>\n",
       "      <td>64.50</td>\n",
       "      <td>64.58</td>\n",
       "      <td>1833495.0</td>\n",
       "      <td>1.185653e+08</td>\n",
       "    </tr>\n",
       "    <tr>\n",
       "      <th>2019-01-22</th>\n",
       "      <td>64.70</td>\n",
       "      <td>64.94</td>\n",
       "      <td>64.02</td>\n",
       "      <td>64.15</td>\n",
       "      <td>1946840.0</td>\n",
       "      <td>1.252871e+08</td>\n",
       "    </tr>\n",
       "    <tr>\n",
       "      <th>2019-01-21</th>\n",
       "      <td>65.16</td>\n",
       "      <td>65.18</td>\n",
       "      <td>64.02</td>\n",
       "      <td>64.43</td>\n",
       "      <td>1164644.0</td>\n",
       "      <td>7.507347e+07</td>\n",
       "    </tr>\n",
       "  </tbody>\n",
       "</table>\n",
       "</div>"
      ],
      "text/plain": [
       "             Open   High    Low   Last     Volume      Turnover\n",
       "Date                                                           \n",
       "2019-01-31  65.85  66.61  65.40  66.61  2400725.0  1.590281e+08\n",
       "2019-01-30  64.63  65.41  64.17  65.19  1429280.0  9.293148e+07\n",
       "2019-01-29  64.15  64.83  63.76  64.57  1277844.0  8.242696e+07\n",
       "2019-01-28  65.50  65.64  63.76  64.00  2164979.0  1.391650e+08\n",
       "2019-01-25  65.99  66.26  65.26  65.54  1541189.0  1.011307e+08\n",
       "2019-01-24  65.65  65.80  64.64  65.70  2061520.0  1.347041e+08\n",
       "2019-01-23  64.70  64.93  64.50  64.58  1833495.0  1.185653e+08\n",
       "2019-01-22  64.70  64.94  64.02  64.15  1946840.0  1.252871e+08\n",
       "2019-01-21  65.16  65.18  64.02  64.43  1164644.0  7.507347e+07"
      ]
     },
     "execution_count": 4,
     "metadata": {},
     "output_type": "execute_result"
    }
   ],
   "source": [
    "#loc return a subset of the dataframe\n",
    "ABInbevQuandl.loc['2019-01-31':'2019-01-20']\n"
   ]
  },
  {
   "cell_type": "code",
   "execution_count": 17,
   "metadata": {},
   "outputs": [
    {
     "name": "stdout",
     "output_type": "stream",
     "text": [
      "a: [0 1 2 3 4 5 6 7 8 9]\n",
      "a from 0 to 1: [0]\n",
      "a last elem: [9]\n"
     ]
    }
   ],
   "source": [
    "#slicing an array\n",
    "a = numpy.arange(10) \n",
    "print(\"a:\", a)\n",
    "print(\"a from 0 to 1:\", a[0:1])\n",
    "print(\"a last elem:\",a[9:])\n"
   ]
  },
  {
   "cell_type": "code",
   "execution_count": 5,
   "metadata": {},
   "outputs": [
    {
     "data": {
      "text/plain": [
       "[DatetimeIndex(['2019-12-24', '2019-12-23', '2019-12-20', '2019-12-19',\n",
       "                '2019-12-18', '2019-12-17', '2019-12-16', '2019-12-13',\n",
       "                '2019-12-12', '2019-12-11',\n",
       "                ...\n",
       "                '2014-02-27', '2014-02-26', '2014-02-25', '2014-02-24',\n",
       "                '2014-02-21', '2014-02-20', '2014-02-19', '2014-02-18',\n",
       "                '2014-02-17', '2014-02-14'],\n",
       "               dtype='datetime64[ns]', name='Date', length=1462, freq=None),\n",
       " Index(['Open', 'High', 'Low', 'Last', 'Volume', 'Turnover'], dtype='object')]"
      ]
     },
     "execution_count": 5,
     "metadata": {},
     "output_type": "execute_result"
    }
   ],
   "source": [
    "#Read data, order them by date and recreate the index\n",
    "ABInbevQuandl = pandas.read_csv('https://www.quandl.com/api/v3/datasets/EURONEXT/ABI.csv?api_key=_czXMKeX32eTXGttzD8H',\n",
    "                                parse_dates=[0])\n",
    "\n",
    "ABInbevQuandl.sort_values(by=['Date'],inplace=True)\n",
    "ABInbevQuandl.reset_index()"
   ]
  },
  {
   "cell_type": "code",
   "execution_count": 9,
   "metadata": {},
   "outputs": [
    {
     "name": "stdout",
     "output_type": "stream",
     "text": [
      "Text\n",
      "Text: [1, 2]\n"
     ]
    }
   ],
   "source": [
    "#Print example\n",
    "print(\"Text\")\n",
    "a=[1,2]\n",
    "#Concatenate print for string and array\n",
    "print(\"Text:\", a)"
   ]
  },
  {
   "cell_type": "code",
   "execution_count": 21,
   "metadata": {},
   "outputs": [
    {
     "data": {
      "text/plain": [
       "1.0"
      ]
     },
     "execution_count": 21,
     "metadata": {},
     "output_type": "execute_result"
    }
   ],
   "source": [
    "float(True)"
   ]
  }
 ],
 "metadata": {
  "kernelspec": {
   "display_name": "Python 3",
   "language": "python",
   "name": "python3"
  },
  "language_info": {
   "codemirror_mode": {
    "name": "ipython",
    "version": 3
   },
   "file_extension": ".py",
   "mimetype": "text/x-python",
   "name": "python",
   "nbconvert_exporter": "python",
   "pygments_lexer": "ipython3",
   "version": "3.7.3"
  }
 },
 "nbformat": 4,
 "nbformat_minor": 2
}
